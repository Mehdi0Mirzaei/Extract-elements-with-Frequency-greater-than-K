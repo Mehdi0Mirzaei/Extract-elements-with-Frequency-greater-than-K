{
 "cells": [
  {
   "cell_type": "code",
   "execution_count": 65,
   "id": "39346057",
   "metadata": {},
   "outputs": [],
   "source": [
    "def extract_ele(lst):\n",
    "    lst1=[]\n",
    "    k=2\n",
    "    for item in lst:\n",
    "        ferq=lst.count(item)\n",
    "        if freq >= k and item not in lst1:\n",
    "            lst1.append(item)\n",
    "    print(\"Your required item :\",lst1)"
   ]
  },
  {
   "cell_type": "code",
   "execution_count": 66,
   "id": "f5eada84",
   "metadata": {},
   "outputs": [],
   "source": [
    "lst2=[1,2,2,3,4,1,5,6,7,8]"
   ]
  },
  {
   "cell_type": "code",
   "execution_count": 67,
   "id": "39be69b4",
   "metadata": {},
   "outputs": [
    {
     "ename": "NameError",
     "evalue": "name 'freq' is not defined",
     "output_type": "error",
     "traceback": [
      "\u001b[1;31m---------------------------------------------------------------------------\u001b[0m",
      "\u001b[1;31mNameError\u001b[0m                                 Traceback (most recent call last)",
      "\u001b[1;32m~\\AppData\\Local\\Temp\\ipykernel_7268\\3141539209.py\u001b[0m in \u001b[0;36m<module>\u001b[1;34m\u001b[0m\n\u001b[1;32m----> 1\u001b[1;33m \u001b[0mextract_ele\u001b[0m\u001b[1;33m(\u001b[0m\u001b[0mlst2\u001b[0m\u001b[1;33m)\u001b[0m\u001b[1;33m\u001b[0m\u001b[1;33m\u001b[0m\u001b[0m\n\u001b[0m",
      "\u001b[1;32m~\\AppData\\Local\\Temp\\ipykernel_7268\\2172704126.py\u001b[0m in \u001b[0;36mextract_ele\u001b[1;34m(lst)\u001b[0m\n\u001b[0;32m      4\u001b[0m     \u001b[1;32mfor\u001b[0m \u001b[0mitem\u001b[0m \u001b[1;32min\u001b[0m \u001b[0mlst\u001b[0m\u001b[1;33m:\u001b[0m\u001b[1;33m\u001b[0m\u001b[1;33m\u001b[0m\u001b[0m\n\u001b[0;32m      5\u001b[0m         \u001b[0mferq\u001b[0m\u001b[1;33m=\u001b[0m\u001b[0mlst\u001b[0m\u001b[1;33m.\u001b[0m\u001b[0mcount\u001b[0m\u001b[1;33m(\u001b[0m\u001b[0mitem\u001b[0m\u001b[1;33m)\u001b[0m\u001b[1;33m\u001b[0m\u001b[1;33m\u001b[0m\u001b[0m\n\u001b[1;32m----> 6\u001b[1;33m         \u001b[1;32mif\u001b[0m \u001b[0mfreq\u001b[0m \u001b[1;33m>=\u001b[0m \u001b[0mk\u001b[0m \u001b[1;32mand\u001b[0m \u001b[0mitem\u001b[0m \u001b[1;32mnot\u001b[0m \u001b[1;32min\u001b[0m \u001b[0mlst1\u001b[0m\u001b[1;33m:\u001b[0m\u001b[1;33m\u001b[0m\u001b[1;33m\u001b[0m\u001b[0m\n\u001b[0m\u001b[0;32m      7\u001b[0m             \u001b[0mlst1\u001b[0m\u001b[1;33m.\u001b[0m\u001b[0mappend\u001b[0m\u001b[1;33m(\u001b[0m\u001b[0mitem\u001b[0m\u001b[1;33m)\u001b[0m\u001b[1;33m\u001b[0m\u001b[1;33m\u001b[0m\u001b[0m\n\u001b[0;32m      8\u001b[0m     \u001b[0mprint\u001b[0m\u001b[1;33m(\u001b[0m\u001b[1;34m\"Your required item :\"\u001b[0m\u001b[1;33m,\u001b[0m\u001b[0mlst1\u001b[0m\u001b[1;33m)\u001b[0m\u001b[1;33m\u001b[0m\u001b[1;33m\u001b[0m\u001b[0m\n",
      "\u001b[1;31mNameError\u001b[0m: name 'freq' is not defined"
     ]
    }
   ],
   "source": [
    "extract_ele(lst2)"
   ]
  },
  {
   "cell_type": "code",
   "execution_count": 63,
   "id": "8652b749",
   "metadata": {},
   "outputs": [
    {
     "name": "stdout",
     "output_type": "stream",
     "text": [
      "The original list : [1, 2, 2, 3, 1, 4, 1, 2, 5, 6, 7, 8]\n",
      "The required elements :  [1, 2]\n"
     ]
    }
   ],
   "source": [
    "lst2=[1,2,2,3,1,4,1,2,5,6,7,8]\n",
    "k = 2\n",
    "unique_elems = []\n",
    "freq_dict = {}\n",
    "output = []\n",
    " \n",
    "# printing string\n",
    "print(\"The original list : \" + str(lst2))\n",
    " \n",
    "for i in lst2:\n",
    "    # Append in the unique element list\n",
    "    if i not in unique_elems:\n",
    "        unique_elems.append(i)\n",
    "        freq_dict[i] = 1\n",
    "    else:\n",
    "        # increment the counter if element is duplicate\n",
    "        freq_dict[i] += 1\n",
    " # Add in the output list only once\n",
    "    if freq_dict[i] == k + 1:\n",
    "        output.append(i)\n",
    "print('The required elements : ', str(output))"
   ]
  },
  {
   "cell_type": "code",
   "execution_count": 64,
   "id": "2bcfc402",
   "metadata": {},
   "outputs": [
    {
     "name": "stdout",
     "output_type": "stream",
     "text": [
      "The required elements : [1, 2]\n"
     ]
    }
   ],
   "source": [
    "import numpy as np\n",
    " \n",
    "lst2=[1,2,2,3,1,4,1,2,5,6,7,8]\n",
    "K = 2\n",
    " \n",
    "# use numpy unique to extract unique elements and their frequency\n",
    "unique_elements, counts = np.unique(lst2, return_counts=True)\n",
    " \n",
    "# extract elements with frequency greater than K\n",
    "res = unique_elements[counts > K].tolist()\n",
    " \n",
    "# printing results\n",
    "print(\"The required elements : \" + str(res))"
   ]
  },
  {
   "cell_type": "code",
   "execution_count": null,
   "id": "1901851a",
   "metadata": {},
   "outputs": [],
   "source": []
  }
 ],
 "metadata": {
  "kernelspec": {
   "display_name": "Python 3 (ipykernel)",
   "language": "python",
   "name": "python3"
  },
  "language_info": {
   "codemirror_mode": {
    "name": "ipython",
    "version": 3
   },
   "file_extension": ".py",
   "mimetype": "text/x-python",
   "name": "python",
   "nbconvert_exporter": "python",
   "pygments_lexer": "ipython3",
   "version": "3.9.13"
  }
 },
 "nbformat": 4,
 "nbformat_minor": 5
}
